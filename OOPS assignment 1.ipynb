{
  "metadata": {
    "kernelspec": {
      "name": "python",
      "display_name": "Python (Pyodide)",
      "language": "python"
    },
    "language_info": {
      "codemirror_mode": {
        "name": "python",
        "version": 3
      },
      "file_extension": ".py",
      "mimetype": "text/x-python",
      "name": "python",
      "nbconvert_exporter": "python",
      "pygments_lexer": "ipython3",
      "version": "3.8"
    }
  },
  "nbformat_minor": 4,
  "nbformat": 4,
  "cells": [
    {
      "cell_type": "code",
      "source": "# ANS 1:- A class is a blueprint for how to define something. It doesn’t actually contain any data. \n#         The Dog class specifies that a name and an age are necessary for defining a dog, \n#         but it doesn’t contain the name or age of any specific dog.",
      "metadata": {
        "trusted": true
      },
      "outputs": [],
      "execution_count": 1
    },
    {
      "cell_type": "code",
      "source": "#        An instance is an object that’s built from a class and contains real data like name and age of dog.",
      "metadata": {
        "trusted": true
      },
      "outputs": [],
      "execution_count": null
    },
    {
      "cell_type": "code",
      "source": "#        for example",
      "metadata": {
        "trusted": true
      },
      "outputs": [],
      "execution_count": 3
    },
    {
      "cell_type": "code",
      "source": "class dog:\n    def __init__(self,name,age):\n        self.name = name\n        self.age = age",
      "metadata": {
        "trusted": true
      },
      "outputs": [],
      "execution_count": 4
    },
    {
      "cell_type": "code",
      "source": "my_dog = dog(\"rocky\" , 5)",
      "metadata": {
        "trusted": true
      },
      "outputs": [],
      "execution_count": 6
    },
    {
      "cell_type": "code",
      "source": "my_dog.name",
      "metadata": {
        "trusted": true
      },
      "outputs": [
        {
          "execution_count": 7,
          "output_type": "execute_result",
          "data": {
            "text/plain": "'rocky'"
          },
          "metadata": {}
        }
      ],
      "execution_count": 7
    },
    {
      "cell_type": "code",
      "source": "my_dog.age",
      "metadata": {
        "trusted": true
      },
      "outputs": [
        {
          "execution_count": 8,
          "output_type": "execute_result",
          "data": {
            "text/plain": "5"
          },
          "metadata": {}
        }
      ],
      "execution_count": 8
    },
    {
      "cell_type": "code",
      "source": "# ANS 2:- Four pillars of oops are := \n# Abstraction: Hiding details and displaying only basic information.\n# Encapsulation: Wrapping up data and information under a single unit.\n# Inheritance: Creating new classes based on existing ones.\n# Polymorphism: Allowing objects of different classes to be treated uniformly.",
      "metadata": {
        "trusted": true
      },
      "outputs": [],
      "execution_count": null
    },
    {
      "cell_type": "code",
      "source": "# ANS 3:-  __init__ is used to initialize the object of a class. For ex:-",
      "metadata": {
        "trusted": true
      },
      "outputs": [],
      "execution_count": 10
    },
    {
      "cell_type": "code",
      "source": "class employee :\n    def __init__(self, reg_num):\n        self.reg_num = reg_num",
      "metadata": {
        "trusted": true
      },
      "outputs": [],
      "execution_count": 13
    },
    {
      "cell_type": "code",
      "source": "emp = employee(406)",
      "metadata": {
        "trusted": true
      },
      "outputs": [],
      "execution_count": 14
    },
    {
      "cell_type": "code",
      "source": "emp.reg_num",
      "metadata": {
        "trusted": true
      },
      "outputs": [
        {
          "execution_count": 15,
          "output_type": "execute_result",
          "data": {
            "text/plain": "406"
          },
          "metadata": {}
        }
      ],
      "execution_count": 15
    },
    {
      "cell_type": "code",
      "source": "# ANS 4:- The self parameter is a reference to the current instance of the class, and is used to access variables and methods \n#          that belong to the class.",
      "metadata": {
        "trusted": true
      },
      "outputs": [],
      "execution_count": 16
    },
    {
      "cell_type": "code",
      "source": "# ANS 5:- Inheritance is a feature of object-oriented programming that allows a class to inherit the \n#         attributes and methods from another class. The class that inherits is called the child class\n#         or subclass and the class that is inherited from is called the parent class.",
      "metadata": {
        "trusted": true
      },
      "outputs": [],
      "execution_count": 17
    },
    {
      "cell_type": "code",
      "source": "#  It's types:-",
      "metadata": {
        "trusted": true
      },
      "outputs": [],
      "execution_count": 18
    },
    {
      "cell_type": "code",
      "source": "#  1) SINGLE INHERITANCE\n\nclass Parent:\n    def func1(self):\n        print(\"This function is in parent class.\")\n \n \nclass Child(Parent):\n    def func2(self):\n        print(\"This function is in child class.\")\n ",
      "metadata": {
        "trusted": true
      },
      "outputs": [],
      "execution_count": 20
    },
    {
      "cell_type": "code",
      "source": "#   2)  MULTIPLE INHERITANCE\n\nclass grandmother :\n \n    def grand_mother(self,age1):\n       self.age1 = age1\n        \nclass mother(grandmother):\n    \n    def mothe_r(self,age2):\n       self.age2 = age2\n \nclass daughter(grandmother,mother):\n    pass",
      "metadata": {
        "trusted": true
      },
      "outputs": [],
      "execution_count": 30
    },
    {
      "cell_type": "code",
      "source": "",
      "metadata": {
        "trusted": true
      },
      "outputs": [],
      "execution_count": null
    }
  ]
}